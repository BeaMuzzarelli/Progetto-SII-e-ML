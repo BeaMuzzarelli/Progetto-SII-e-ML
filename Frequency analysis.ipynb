{
 "cells": [
  {
   "cell_type": "markdown",
   "metadata": {},
   "source": [
    "# In questo notebook calcolo il numero di tweet totali e medi pubblicati da ciascun utente in un anno"
   ]
  },
  {
   "cell_type": "code",
   "execution_count": 1,
   "metadata": {},
   "outputs": [],
   "source": [
    "import findspark\n",
    "findspark.init()"
   ]
  },
  {
   "cell_type": "code",
   "execution_count": 2,
   "metadata": {},
   "outputs": [],
   "source": [
    "from pyspark import SparkContext\n",
    "from pyspark.sql import SparkSession\n",
    "from pyspark.sql.functions import *\n",
    "import csv\n",
    "import time"
   ]
  },
  {
   "cell_type": "code",
   "execution_count": 3,
   "metadata": {},
   "outputs": [],
   "source": [
    "spark = SparkSession.builder.appName(\"frequency analysis by month 1\").config(\"spark.executor.memory\", \"500m\").getOrCreate()"
   ]
  },
  {
   "cell_type": "code",
   "execution_count": 4,
   "metadata": {},
   "outputs": [],
   "source": [
    "df = spark.read.options(sep=\",\", header=True, quote=\"\\\"\", escape=\"\\\"\", multiline=True).csv('DatiDaAnalizzare_pt4.csv')"
   ]
  },
  {
   "cell_type": "code",
   "execution_count": 5,
   "metadata": {},
   "outputs": [],
   "source": [
    "tuples_RDD = df.rdd"
   ]
  },
  {
   "cell_type": "code",
   "execution_count": 6,
   "metadata": {},
   "outputs": [],
   "source": [
    "user_month_to_one_RDD = tuples_RDD.map(f=lambda e: ((e[3], (time.strftime('%Y-%m-%d %H:%M:%S', time.strptime(e[0],'%a %b %d %H:%M:%S +0000 %Y')))[5:7], (time.strftime('%Y-%m-%d %H:%M:%S', time.strptime(e[0],'%a %b %d %H:%M:%S +0000 %Y')))[0:4]), 1))"
   ]
  },
  {
   "cell_type": "code",
   "execution_count": 7,
   "metadata": {},
   "outputs": [],
   "source": [
    "user_month_to_sum_RDD = user_month_to_one_RDD.reduceByKey(func=lambda a,b: a+b)"
   ]
  },
  {
   "cell_type": "code",
   "execution_count": 8,
   "metadata": {},
   "outputs": [],
   "source": [
    "user_year_to_month_sum_RDD = user_month_to_sum_RDD.map(f=lambda e: ((e[0][0], e[0][2]), (e[1], 1)))"
   ]
  },
  {
   "cell_type": "code",
   "execution_count": 9,
   "metadata": {},
   "outputs": [],
   "source": [
    "user_year_to_sum_RDD = user_year_to_month_sum_RDD.reduceByKey(func=lambda a,b: (a[0]+b[0], a[1]+b[1]))"
   ]
  },
  {
   "cell_type": "code",
   "execution_count": 10,
   "metadata": {},
   "outputs": [],
   "source": [
    "user_year_to_avg_RDD = user_year_to_sum_RDD.map(f=lambda e: (e[0][0], e[0][1], e[1][0], e[1][1], e[1][0]//e[1][1]))"
   ]
  },
  {
   "cell_type": "code",
   "execution_count": 11,
   "metadata": {},
   "outputs": [],
   "source": [
    "sorted_RDD = user_year_to_avg_RDD.sortBy(keyfunc=lambda x: -x[2])"
   ]
  },
  {
   "cell_type": "code",
   "execution_count": 12,
   "metadata": {},
   "outputs": [],
   "source": [
    "result_RDD = sorted_RDD.map(f=lambda x: x[0] + \",\" + str(x[1]) + \",\" + str(x[2]) + \",\" + str(x[3]) + \",\" + str(x[4]))"
   ]
  },
  {
   "cell_type": "code",
   "execution_count": 13,
   "metadata": {},
   "outputs": [],
   "source": [
    "result_RDD.saveAsTextFile('Pubblicazioni_annuali_pt4')"
   ]
  },
  {
   "cell_type": "code",
   "execution_count": null,
   "metadata": {},
   "outputs": [],
   "source": []
  }
 ],
 "metadata": {
  "kernelspec": {
   "display_name": "Python 3",
   "language": "python",
   "name": "python3"
  },
  "language_info": {
   "codemirror_mode": {
    "name": "ipython",
    "version": 3
   },
   "file_extension": ".py",
   "mimetype": "text/x-python",
   "name": "python",
   "nbconvert_exporter": "python",
   "pygments_lexer": "ipython3",
   "version": "3.8.5"
  }
 },
 "nbformat": 4,
 "nbformat_minor": 4
}
