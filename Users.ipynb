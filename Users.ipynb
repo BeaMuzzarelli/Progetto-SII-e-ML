{
 "cells": [
  {
   "cell_type": "markdown",
   "metadata": {},
   "source": [
    "# In questo notebook ottengo gli id degli utenti a partire dagli id dei loro tweet"
   ]
  },
  {
   "cell_type": "code",
   "execution_count": 1,
   "metadata": {},
   "outputs": [],
   "source": [
    "import tweepy"
   ]
  },
  {
   "cell_type": "code",
   "execution_count": 2,
   "metadata": {},
   "outputs": [],
   "source": [
    "consumer_key = ''\n",
    "consumer_secret = ''\n",
    "access_token = ''\n",
    "access_token_secret = ''"
   ]
  },
  {
   "cell_type": "code",
   "execution_count": 3,
   "metadata": {},
   "outputs": [],
   "source": [
    "auth = tweepy.OAuth1UserHandler(consumer_key, consumer_secret, access_token, access_token_secret)\n",
    "api = tweepy.API(auth, wait_on_rate_limit=True)"
   ]
  },
  {
   "cell_type": "code",
   "execution_count": 4,
   "metadata": {},
   "outputs": [],
   "source": [
    "user_ids = []\n",
    "tweet_ids = []"
   ]
  },
  {
   "cell_type": "code",
   "execution_count": 5,
   "metadata": {},
   "outputs": [],
   "source": [
    "#lettura file e salvataggio degli id dei tweet nella lista relativa\n",
    "with open(\"dati.txt\", \"r\") as file:\n",
    "    while True:\n",
    "        line = file.readline()\n",
    "        if not line:\n",
    "            break\n",
    "        tweet_ids.append(line.strip())"
   ]
  },
  {
   "cell_type": "code",
   "execution_count": 6,
   "metadata": {},
   "outputs": [
    {
     "name": "stderr",
     "output_type": "stream",
     "text": [
      "Rate limit reached. Sleeping for: 536\n",
      "Rate limit reached. Sleeping for: 448\n",
      "Rate limit reached. Sleeping for: 448\n",
      "Rate limit reached. Sleeping for: 441\n",
      "Rate limit reached. Sleeping for: 448\n",
      "Rate limit reached. Sleeping for: 442\n",
      "Rate limit reached. Sleeping for: 451\n",
      "Rate limit reached. Sleeping for: 449\n",
      "Rate limit reached. Sleeping for: 452\n",
      "Rate limit reached. Sleeping for: 449\n",
      "Rate limit reached. Sleeping for: 452\n",
      "Rate limit reached. Sleeping for: 449\n",
      "Rate limit reached. Sleeping for: 451\n",
      "Rate limit reached. Sleeping for: 443\n",
      "Rate limit reached. Sleeping for: 438\n",
      "Rate limit reached. Sleeping for: 449\n",
      "Rate limit reached. Sleeping for: 448\n",
      "Rate limit reached. Sleeping for: 447\n",
      "Rate limit reached. Sleeping for: 439\n",
      "Rate limit reached. Sleeping for: 447\n",
      "Rate limit reached. Sleeping for: 451\n",
      "Rate limit reached. Sleeping for: 447\n",
      "Rate limit reached. Sleeping for: 449\n",
      "Rate limit reached. Sleeping for: 453\n",
      "Rate limit reached. Sleeping for: 450\n",
      "Rate limit reached. Sleeping for: 434\n",
      "Rate limit reached. Sleeping for: 451\n",
      "Rate limit reached. Sleeping for: 447\n",
      "Rate limit reached. Sleeping for: 445\n",
      "Rate limit reached. Sleeping for: 440\n",
      "Rate limit reached. Sleeping for: 446\n",
      "Rate limit reached. Sleeping for: 623\n",
      "Rate limit reached. Sleeping for: 624\n",
      "Rate limit reached. Sleeping for: 623\n",
      "Rate limit reached. Sleeping for: 625\n",
      "Rate limit reached. Sleeping for: 607\n",
      "Rate limit reached. Sleeping for: 612\n",
      "Rate limit reached. Sleeping for: 614\n",
      "Rate limit reached. Sleeping for: 597\n",
      "Rate limit reached. Sleeping for: 599\n",
      "Rate limit reached. Sleeping for: 453\n",
      "Rate limit reached. Sleeping for: 468\n",
      "Rate limit reached. Sleeping for: 429\n",
      "Rate limit reached. Sleeping for: 439\n",
      "Rate limit reached. Sleeping for: 442\n",
      "Rate limit reached. Sleeping for: 439\n",
      "Rate limit reached. Sleeping for: 423\n",
      "Rate limit reached. Sleeping for: 404\n",
      "Rate limit reached. Sleeping for: 442\n",
      "Rate limit reached. Sleeping for: 436\n",
      "Rate limit reached. Sleeping for: 416\n",
      "Rate limit reached. Sleeping for: 439\n",
      "Rate limit reached. Sleeping for: 429\n",
      "Rate limit reached. Sleeping for: 439\n",
      "Rate limit reached. Sleeping for: 432\n",
      "Rate limit reached. Sleeping for: 441\n",
      "Rate limit reached. Sleeping for: 444\n",
      "Rate limit reached. Sleeping for: 441\n",
      "Rate limit reached. Sleeping for: 438\n",
      "Rate limit reached. Sleeping for: 568\n",
      "Rate limit reached. Sleeping for: 502\n",
      "Rate limit reached. Sleeping for: 603\n",
      "Rate limit reached. Sleeping for: 603\n",
      "Rate limit reached. Sleeping for: 601\n",
      "Rate limit reached. Sleeping for: 606\n",
      "Rate limit reached. Sleeping for: 600\n",
      "Rate limit reached. Sleeping for: 610\n",
      "Rate limit reached. Sleeping for: 607\n",
      "Rate limit reached. Sleeping for: 604\n",
      "Rate limit reached. Sleeping for: 606\n",
      "Rate limit reached. Sleeping for: 608\n",
      "Rate limit reached. Sleeping for: 609\n",
      "Rate limit reached. Sleeping for: 605\n",
      "Rate limit reached. Sleeping for: 609\n",
      "Rate limit reached. Sleeping for: 610\n",
      "Rate limit reached. Sleeping for: 610\n",
      "Rate limit reached. Sleeping for: 614\n",
      "Rate limit reached. Sleeping for: 610\n",
      "Rate limit reached. Sleeping for: 611\n",
      "Rate limit reached. Sleeping for: 609\n",
      "Rate limit reached. Sleeping for: 609\n",
      "Rate limit reached. Sleeping for: 440\n",
      "Rate limit reached. Sleeping for: 441\n",
      "Rate limit reached. Sleeping for: 439\n",
      "Rate limit reached. Sleeping for: 444\n",
      "Rate limit reached. Sleeping for: 436\n",
      "Rate limit reached. Sleeping for: 442\n",
      "Rate limit reached. Sleeping for: 442\n",
      "Rate limit reached. Sleeping for: 427\n",
      "Rate limit reached. Sleeping for: 439\n",
      "Rate limit reached. Sleeping for: 445\n",
      "Rate limit reached. Sleeping for: 440\n",
      "Rate limit reached. Sleeping for: 437\n",
      "Rate limit reached. Sleeping for: 437\n",
      "Rate limit reached. Sleeping for: 434\n",
      "Rate limit reached. Sleeping for: 430\n",
      "Rate limit reached. Sleeping for: 429\n",
      "Rate limit reached. Sleeping for: 430\n",
      "Rate limit reached. Sleeping for: 364\n",
      "Rate limit reached. Sleeping for: 433\n",
      "Rate limit reached. Sleeping for: 423\n",
      "Rate limit reached. Sleeping for: 422\n",
      "Rate limit reached. Sleeping for: 419\n",
      "Rate limit reached. Sleeping for: 424\n",
      "Rate limit reached. Sleeping for: 433\n",
      "Rate limit reached. Sleeping for: 607\n",
      "Rate limit reached. Sleeping for: 607\n",
      "Rate limit reached. Sleeping for: 606\n",
      "Rate limit reached. Sleeping for: 604\n",
      "Rate limit reached. Sleeping for: 604\n",
      "Rate limit reached. Sleeping for: 607\n"
     ]
    }
   ],
   "source": [
    "#salvo id degli utenti che hanno pubblicato quei tweet nella lista relativa\n",
    "for id in tweet_ids:\n",
    "    try:\n",
    "        tweet = api.get_status(id)\n",
    "    except:\n",
    "        continue\n",
    "    if tweet.lang == 'en':\n",
    "        user_ids.append(tweet.user.id)"
   ]
  },
  {
   "cell_type": "code",
   "execution_count": 7,
   "metadata": {},
   "outputs": [],
   "source": [
    "#salvo la lista degli id degli utenti su un file di testo\n",
    "with open('idUtenti1.txt', 'w') as temp_file:\n",
    "    for item in user_ids:\n",
    "        temp_file.write(\"%s\\n\" %item)"
   ]
  },
  {
   "cell_type": "code",
   "execution_count": null,
   "metadata": {},
   "outputs": [],
   "source": []
  }
 ],
 "metadata": {
  "kernelspec": {
   "display_name": "Python 3",
   "language": "python",
   "name": "python3"
  },
  "language_info": {
   "codemirror_mode": {
    "name": "ipython",
    "version": 3
   },
   "file_extension": ".py",
   "mimetype": "text/x-python",
   "name": "python",
   "nbconvert_exporter": "python",
   "pygments_lexer": "ipython3",
   "version": "3.8.5"
  }
 },
 "nbformat": 4,
 "nbformat_minor": 4
}
