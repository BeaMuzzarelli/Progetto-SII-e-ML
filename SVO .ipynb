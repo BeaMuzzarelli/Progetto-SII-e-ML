{
 "cells": [
  {
   "cell_type": "markdown",
   "metadata": {},
   "source": [
    "# In questo notebook ottengo i vettori SVO degli utenti"
   ]
  },
  {
   "cell_type": "code",
   "execution_count": 1,
   "metadata": {},
   "outputs": [],
   "source": [
    "import pandas as pd\n",
    "import numpy as np\n",
    "from numpy.linalg import norm"
   ]
  },
  {
   "cell_type": "code",
   "execution_count": 2,
   "metadata": {},
   "outputs": [],
   "source": [
    "id_utenti = []\n",
    "tweet_totali = []\n",
    "tweet_positivi = []\n",
    "tweet_neutrali = []\n",
    "tweet_negativi = []\n",
    "tweet_covid_totali = []\n",
    "sentiments = []\n",
    "volumes = []\n",
    "objectivities = []\n",
    "vectors = []"
   ]
  },
  {
   "cell_type": "code",
   "execution_count": 3,
   "metadata": {},
   "outputs": [],
   "source": [
    "r = open('Dati_utente-tweet_war.csv', 'r', encoding='utf-8')"
   ]
  },
  {
   "cell_type": "code",
   "execution_count": 4,
   "metadata": {},
   "outputs": [],
   "source": [
    "for line in r:\n",
    "    line = line.strip()\n",
    "    id_riga, id_utente_corrente, tweet_totali_corrente, tweet_positivi_corrente, tweet_neutrali_corrente, tweet_negativi_corrente, tweet_covid_totali_corrente = line.split(\",\")\n",
    "    id_utenti.append(id_utente_corrente)\n",
    "    tweet_totali.append(tweet_totali_corrente)\n",
    "    tweet_positivi.append(tweet_positivi_corrente)\n",
    "    tweet_neutrali.append(tweet_neutrali_corrente)\n",
    "    tweet_negativi.append(tweet_negativi_corrente)\n",
    "    tweet_covid_totali.append(tweet_covid_totali_corrente)\n",
    "    volume_corrente = int(tweet_covid_totali_corrente)/int(tweet_totali_corrente)\n",
    "    volumes.append(volume_corrente)\n",
    "    objectivity_corrente = int(tweet_neutrali_corrente)/(int(tweet_positivi_corrente)+int(tweet_neutrali_corrente)+int(tweet_negativi_corrente))\n",
    "    objectivities.append(objectivity_corrente)\n",
    "    try:\n",
    "        temp = (int(tweet_positivi_corrente)-int(tweet_negativi_corrente))/(int(tweet_positivi_corrente)+int(tweet_negativi_corrente))\n",
    "        sentiment_corrente = 1/(1+pow(10, -temp))\n",
    "        sentiments.append(sentiment_corrente)\n",
    "        vettore_corrente = np.array([0.6*sentiment_corrente, 0.3*volume_corrente, 0.1*objectivity_corrente])\n",
    "        vectors.append(vettore_corrente)\n",
    "    except:\n",
    "        sentiments.append(0)\n",
    "        vettore_corrente = np.array([0.6*sentiment_corrente, 0.3*volume_corrente, 0.1*objectivity_corrente])\n",
    "        vectors.append(vettore_corrente)"
   ]
  },
  {
   "cell_type": "code",
   "execution_count": 5,
   "metadata": {},
   "outputs": [],
   "source": [
    "r.close()"
   ]
  },
  {
   "cell_type": "code",
   "execution_count": 6,
   "metadata": {},
   "outputs": [],
   "source": [
    "df = pd.DataFrame(list(zip(id_utenti, tweet_totali, tweet_positivi, tweet_neutrali, tweet_negativi, tweet_covid_totali, sentiments, volumes, objectivities, vectors)), columns=['id_utente', 'tweet_totali', 'tweet_positivi', 'tweet_neutrali', 'tweet_negativi', 'tweet_covid_totali', 'sentiment', 'volume', 'objectivity', 'svo_vector'])"
   ]
  },
  {
   "cell_type": "code",
   "execution_count": 1,
   "metadata": {},
   "outputs": [],
   "source": [
    "#ometto il risultato perchè ci apparivano gli id degli utenti e questo va contro la politica di Twitter\n",
    "df"
   ]
  },
  {
   "cell_type": "code",
   "execution_count": 8,
   "metadata": {},
   "outputs": [],
   "source": [
    "edges = []"
   ]
  },
  {
   "cell_type": "code",
   "execution_count": 17,
   "metadata": {},
   "outputs": [],
   "source": [
    "for index, row in df.iterrows():\n",
    "    for other_index, other_row in df.iterrows():\n",
    "        if row['id_utente']>other_row['id_utente']:\n",
    "            cosine = np.dot(row['svo_vector'],other_row['svo_vector'])/(norm(row['svo_vector'])*norm(other_row['svo_vector']))\n",
    "            if cosine>0.99:\n",
    "                tupla=(row['id_utente'], other_row['id_utente'])\n",
    "                edges.append(tupla)"
   ]
  },
  {
   "cell_type": "code",
   "execution_count": 18,
   "metadata": {},
   "outputs": [
    {
     "data": {
      "text/plain": [
       "5791500"
      ]
     },
     "execution_count": 18,
     "metadata": {},
     "output_type": "execute_result"
    }
   ],
   "source": [
    "len(edges)"
   ]
  },
  {
   "cell_type": "code",
   "execution_count": 19,
   "metadata": {},
   "outputs": [],
   "source": [
    "with open('covid_edges_099.txt', 'w') as temp_file:\n",
    "    for item in edges:\n",
    "        temp_file.write(\"%s,%s\\n\" %(item[0], item[1]))"
   ]
  },
  {
   "cell_type": "code",
   "execution_count": 8,
   "metadata": {},
   "outputs": [],
   "source": [
    "with open('svo_war_user_moresentiment_lessvolume.txt', 'w') as temp_file:\n",
    "    for index, row in df.iterrows():\n",
    "        s=row['sentiment']*0.6\n",
    "        v=row['volume']*0.3\n",
    "        o=row['objectivity']*0.1\n",
    "        temp_file.write(\"%s,%f,%f,%f\\n\" %(row['id_utente'], s, v, o))"
   ]
  },
  {
   "cell_type": "code",
   "execution_count": null,
   "metadata": {},
   "outputs": [],
   "source": []
  }
 ],
 "metadata": {
  "kernelspec": {
   "display_name": "Python 3",
   "language": "python",
   "name": "python3"
  },
  "language_info": {
   "codemirror_mode": {
    "name": "ipython",
    "version": 3
   },
   "file_extension": ".py",
   "mimetype": "text/x-python",
   "name": "python",
   "nbconvert_exporter": "python",
   "pygments_lexer": "ipython3",
   "version": "3.8.5"
  }
 },
 "nbformat": 4,
 "nbformat_minor": 4
}
