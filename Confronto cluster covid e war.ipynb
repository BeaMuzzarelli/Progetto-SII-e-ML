{
 "cells": [
  {
   "cell_type": "markdown",
   "metadata": {},
   "source": [
    "# In questo notebook verifico l'esistenza di una correlazione tra i cluster ottenuti con il sentiment del covid e quelli ottenuti con il sentiment della guerra"
   ]
  },
  {
   "cell_type": "code",
   "execution_count": 1,
   "metadata": {},
   "outputs": [],
   "source": [
    "import pandas as pd"
   ]
  },
  {
   "cell_type": "code",
   "execution_count": 2,
   "metadata": {},
   "outputs": [],
   "source": [
    "df1 = pd.read_csv('user2cluster_war.csv')"
   ]
  },
  {
   "cell_type": "code",
   "execution_count": 28,
   "metadata": {},
   "outputs": [],
   "source": [
    "#ometto i risultati in quanto apparivano gli id degli utenti e questo non è consentito dalla politica di Twitter\n",
    "df1"
   ]
  },
  {
   "cell_type": "code",
   "execution_count": 4,
   "metadata": {},
   "outputs": [],
   "source": [
    "df2 = pd.read_csv('user2cluster_covid.csv')"
   ]
  },
  {
   "cell_type": "code",
   "execution_count": 29,
   "metadata": {},
   "outputs": [],
   "source": [
    "#ometto i risultati in quanto apparivano gli id degli utenti e questo va contro la politica di Twitter\n",
    "df2"
   ]
  },
  {
   "cell_type": "code",
   "execution_count": 6,
   "metadata": {},
   "outputs": [],
   "source": [
    "del df1['Unnamed: 0']"
   ]
  },
  {
   "cell_type": "code",
   "execution_count": 7,
   "metadata": {},
   "outputs": [],
   "source": [
    "del df2['Unnamed: 0']"
   ]
  },
  {
   "cell_type": "code",
   "execution_count": 8,
   "metadata": {},
   "outputs": [],
   "source": [
    "df3 = pd.merge(df1,df2, on='user_id.str')"
   ]
  },
  {
   "cell_type": "code",
   "execution_count": 30,
   "metadata": {},
   "outputs": [],
   "source": [
    "#ometto i risultati in quanto apparivano gli id degli utenti e questo non è consentito dalla politica di Twitter\n",
    "df3"
   ]
  },
  {
   "cell_type": "code",
   "execution_count": 11,
   "metadata": {},
   "outputs": [],
   "source": [
    "df3.to_csv('user_warcluster_covidcluster.csv')"
   ]
  },
  {
   "cell_type": "code",
   "execution_count": 25,
   "metadata": {},
   "outputs": [],
   "source": [
    "conteggio_00 = 0\n",
    "conteggio_01 = 0\n",
    "conteggio_02 = 0\n",
    "conteggio_10 = 0\n",
    "conteggio_11 = 0\n",
    "conteggio_12 = 0\n",
    "conteggio_20 = 0\n",
    "conteggio_21 = 0\n",
    "conteggio_22 = 0"
   ]
  },
  {
   "cell_type": "code",
   "execution_count": 22,
   "metadata": {},
   "outputs": [],
   "source": [
    "for index, row in df3.iterrows():\n",
    "    if row['cluster'] == 0 and row['cluster_war'] == 0:\n",
    "        conteggio_00 = conteggio_00 + 1\n",
    "    elif row['cluster'] == 0 and row['cluster_war'] == 1:\n",
    "        conteggio_01 = conteggio_01 + 1\n",
    "    elif row['cluster'] == 0 and row['cluster_war'] == 2:\n",
    "        conteggio_02 = conteggio_02 + 1\n",
    "    elif row['cluster'] == 1 and row['cluster_war'] == 0:\n",
    "        conteggio_10 = conteggio_10 + 1\n",
    "    elif row['cluster'] == 1 and row['cluster_war'] == 1:\n",
    "        conteggio_11 = conteggio_11 + 1\n",
    "    elif row['cluster'] == 1 and row['cluster_war'] == 2:\n",
    "        conteggio_12 = conteggio_12 + 1\n",
    "    elif row['cluster'] == 2 and row['cluster_war'] == 0:\n",
    "        conteggio_20 = conteggio_20 + 1\n",
    "    elif row['cluster'] == 2 and row['cluster_war'] == 1:\n",
    "        conteggio_21 = conteggio_21 + 1\n",
    "    else:\n",
    "        conteggio_22 = conteggio_22 + 1"
   ]
  },
  {
   "cell_type": "code",
   "execution_count": 23,
   "metadata": {},
   "outputs": [],
   "source": [
    "totale_utenti_covid0 = 3426\n",
    "totale_utenti_covid1 = 1786\n",
    "totale_utenti_covid2 = 202\n",
    "totale_utenti_war0 = 2311\n",
    "totale_utenti_war1 = 2060\n",
    "totale_utenti_war2 = 1019"
   ]
  },
  {
   "cell_type": "code",
   "execution_count": 24,
   "metadata": {},
   "outputs": [
    {
     "name": "stdout",
     "output_type": "stream",
     "text": [
      "utenti in covid 0 e war 0: 1420 ovvero il 41.447752481027436%\n",
      "utenti in covid 0 e war 1: 1445 ovvero il 42.1774664331582%\n",
      "utenti in covid 0 e war 2: 548 ovvero il 15.995329830706362%\n",
      "utenti in covid 1 e war 0: 810 ovvero il 45.35274356103024%\n",
      "utenti in covid 1 e war 1: 537 ovvero il 30.067189249720045%\n",
      "utenti in covid 1 e war 2: 431 ovvero il 24.132138857782756%\n",
      "utenti in covid 2 e war 0: 81 ovvero il 40.0990099009901%\n",
      "utenti in covid 2 e war 1: 78 ovvero il 38.613861386138616%\n",
      "utenti in covid 2 e war 2: 40 ovvero il 19.801980198019802%\n"
     ]
    }
   ],
   "source": [
    "print('utenti in covid 0 e war 0: '+str(conteggio_00)+' ovvero il '+str(conteggio_00*100/totale_utenti_covid0)+'%')\n",
    "print('utenti in covid 0 e war 1: '+str(conteggio_01)+' ovvero il '+str(conteggio_01*100/totale_utenti_covid0)+'%')\n",
    "print('utenti in covid 0 e war 2: '+str(conteggio_02)+' ovvero il '+str(conteggio_02*100/totale_utenti_covid0)+'%')\n",
    "print('utenti in covid 1 e war 0: '+str(conteggio_10)+' ovvero il '+str(conteggio_10*100/totale_utenti_covid1)+'%')\n",
    "print('utenti in covid 1 e war 1: '+str(conteggio_11)+' ovvero il '+str(conteggio_11*100/totale_utenti_covid1)+'%')\n",
    "print('utenti in covid 1 e war 2: '+str(conteggio_12)+' ovvero il '+str(conteggio_12*100/totale_utenti_covid1)+'%')\n",
    "print('utenti in covid 2 e war 0: '+str(conteggio_20)+' ovvero il '+str(conteggio_20*100/totale_utenti_covid2)+'%')\n",
    "print('utenti in covid 2 e war 1: '+str(conteggio_21)+' ovvero il '+str(conteggio_21*100/totale_utenti_covid2)+'%')\n",
    "print('utenti in covid 2 e war 2: '+str(conteggio_22)+' ovvero il '+str(conteggio_22*100/totale_utenti_covid2)+'%')"
   ]
  },
  {
   "cell_type": "code",
   "execution_count": 26,
   "metadata": {},
   "outputs": [],
   "source": [
    "for index, row in df3.iterrows():\n",
    "    if row['cluster_war'] == 0 and row['cluster'] == 0:\n",
    "        conteggio_00 = conteggio_00 + 1\n",
    "    elif row['cluster_war'] == 0 and row['cluster'] == 1:\n",
    "        conteggio_01 = conteggio_01 + 1\n",
    "    elif row['cluster_war'] == 0 and row['cluster'] == 2:\n",
    "        conteggio_02 = conteggio_02 + 1\n",
    "    elif row['cluster_war'] == 1 and row['cluster'] == 0:\n",
    "        conteggio_10 = conteggio_10 + 1\n",
    "    elif row['cluster_war'] == 1 and row['cluster'] == 1:\n",
    "        conteggio_11 = conteggio_11 + 1\n",
    "    elif row['cluster_war'] == 1 and row['cluster'] == 2:\n",
    "        conteggio_12 = conteggio_12 + 1\n",
    "    elif row['cluster_war'] == 2 and row['cluster'] == 0:\n",
    "        conteggio_20 = conteggio_20 + 1\n",
    "    elif row['cluster_war'] == 2 and row['cluster'] == 1:\n",
    "        conteggio_21 = conteggio_21 + 1\n",
    "    else:\n",
    "        conteggio_22 = conteggio_22 + 1"
   ]
  },
  {
   "cell_type": "code",
   "execution_count": 27,
   "metadata": {},
   "outputs": [
    {
     "name": "stdout",
     "output_type": "stream",
     "text": [
      "utenti in war 0 e covid 0: 1420 ovvero il 61.44526179143228%\n",
      "utenti in war 0 e covid 1: 810 ovvero il 35.049762007788836%\n",
      "utenti in war 0 e covid 2: 81 ovvero il 3.5049762007788834%\n",
      "utenti in war 1 e covid 0: 1445 ovvero il 70.14563106796116%\n",
      "utenti in war 1 e covid 1: 537 ovvero il 26.067961165048544%\n",
      "utenti in war 1 e covid 2: 78 ovvero il 3.7864077669902914%\n",
      "utenti in war 2 e covid 0: 548 ovvero il 53.77821393523062%\n",
      "utenti in war 2 e covid 1: 431 ovvero il 42.29636898920511%\n",
      "utenti in war 2 e covid 2: 40 ovvero il 3.9254170755642788%\n"
     ]
    }
   ],
   "source": [
    "print('utenti in war 0 e covid 0: '+str(conteggio_00)+' ovvero il '+str(conteggio_00*100/totale_utenti_war0)+'%')\n",
    "print('utenti in war 0 e covid 1: '+str(conteggio_01)+' ovvero il '+str(conteggio_01*100/totale_utenti_war0)+'%')\n",
    "print('utenti in war 0 e covid 2: '+str(conteggio_02)+' ovvero il '+str(conteggio_02*100/totale_utenti_war0)+'%')\n",
    "print('utenti in war 1 e covid 0: '+str(conteggio_10)+' ovvero il '+str(conteggio_10*100/totale_utenti_war1)+'%')\n",
    "print('utenti in war 1 e covid 1: '+str(conteggio_11)+' ovvero il '+str(conteggio_11*100/totale_utenti_war1)+'%')\n",
    "print('utenti in war 1 e covid 2: '+str(conteggio_12)+' ovvero il '+str(conteggio_12*100/totale_utenti_war1)+'%')\n",
    "print('utenti in war 2 e covid 0: '+str(conteggio_20)+' ovvero il '+str(conteggio_20*100/totale_utenti_war2)+'%')\n",
    "print('utenti in war 2 e covid 1: '+str(conteggio_21)+' ovvero il '+str(conteggio_21*100/totale_utenti_war2)+'%')\n",
    "print('utenti in war 2 e covid 2: '+str(conteggio_22)+' ovvero il '+str(conteggio_22*100/totale_utenti_war2)+'%')"
   ]
  },
  {
   "cell_type": "code",
   "execution_count": null,
   "metadata": {},
   "outputs": [],
   "source": []
  }
 ],
 "metadata": {
  "kernelspec": {
   "display_name": "Python 3",
   "language": "python",
   "name": "python3"
  },
  "language_info": {
   "codemirror_mode": {
    "name": "ipython",
    "version": 3
   },
   "file_extension": ".py",
   "mimetype": "text/x-python",
   "name": "python",
   "nbconvert_exporter": "python",
   "pygments_lexer": "ipython3",
   "version": "3.8.5"
  }
 },
 "nbformat": 4,
 "nbformat_minor": 4
}
